{
 "cells": [
  {
   "cell_type": "markdown",
   "metadata": {},
   "source": [
    "# Agent-Based Model: Enhanced Migration Model\n",
    "\n",
    "**Notebook 5 Result:** Random migration model achieved correlation r = -0.043 with empirical data, proving that real migration is NOT random and requires systematic mechanisms.\n",
    "\n",
    "**This Notebook's Goal:** Build enhanced ABM with three key mechanisms:\n",
    "1. **Economic Pull Factors** - Countries with high GDP, HDI, low unemployment attract migrants\n",
    "2. **Network Effects** - Existing diaspora communities attract compatriots (chain migration)\n",
    "3. **Distance Costs** - Geographic, cultural, linguistic barriers reduce migration probability\n",
    "\n",
    "**Expected Outcome:** Correlation r ~ 0.5-0.7 (moderate to strong), proving these mechanisms drive real migration patterns.\n",
    "\n",
    "## Scientific Approach\n",
    "We'll build incrementally:\n",
    "- **Step 1:** Add economic attractiveness (test alone)\n",
    "- **Step 2:** Add network effects (test combined with economics)\n",
    "- **Step 3:** Add distance costs (full model)\n",
    "- **Step 4:** Calibrate parameters (find optimal weights)\n",
    "- **Step 5:** Validate against empirical data\n",
    "\n",
    "This isolates each mechanism's contribution and allows comparison."
   ]
  },
  {
   "cell_type": "markdown",
   "metadata": {},
   "source": [
    "## Section 1: Setup & Data Loading\n",
    "\n",
    "Load the migration network and prepare for enhanced modeling."
   ]
  },
  {
   "cell_type": "code",
   "execution_count": null,
   "metadata": {},
   "outputs": [],
   "source": [
    "# TODO: Import libraries (same as NB5 + any new ones needed)\n",
    "# Standard: pandas, numpy, matplotlib, networkx, etc.\n",
    "# Set seeds for reproducibility"
   ]
  },
  {
   "cell_type": "code",
   "execution_count": null,
   "metadata": {},
   "outputs": [],
   "source": [
    "# TODO: Load 40-country migration network\n",
    "# (Copy from NB5 - same graph rebuild code)"
   ]
  },
  {
   "cell_type": "markdown",
   "metadata": {},
   "source": [
    "## Section 2: Data Enrichment (Economic Indicators)\n",
    "\n",
    "**Objective:** Obtain 2015 economic data for all 40 countries to calculate attractiveness scores.\n",
    "\n",
    "**Data Sources:**\n",
    "- **GDP per capita (2015):** World Bank Development Indicators\n",
    "  - https://databank.worldbank.org/source/world-development-indicators\n",
    "- **Human Development Index (2015):** UNDP Human Development Report\n",
    "  - https://hdr.undp.org/data-center/documentation-and-downloads\n",
    "- **Unemployment rate (2015):** World Bank or ILO\n",
    "\n",
    "**Why 2015?** Matches our migration data snapshot.\n",
    "\n",
    "**Attractiveness Formula:**\n",
    "```\n",
    "attractiveness = 0.5 * normalized_GDP + 0.3 * normalized_HDI + 0.2 * (1 - normalized_unemployment)\n",
    "```\n",
    "\n",
    "**Alternative:** If data download is difficult, we can use proxy values or estimated rankings. Will discuss once you reach this section."
   ]
  },
  {
   "cell_type": "code",
   "execution_count": null,
   "metadata": {},
   "outputs": [],
   "source": [
    "# TODO: Load or create country economic data\n",
    "# Option A: Load from pre-downloaded CSV (if you obtain data)\n",
    "# Option B: Create dictionary with estimated/proxy values\n",
    "# \n",
    "# Structure:\n",
    "# country_data = {\n",
    "#     'USA': {'GDP_per_capita': 56863, 'HDI': 0.920, 'Unemployment': 5.3},\n",
    "#     'PAK': {'GDP_per_capita': 1439, 'HDI': 0.562, 'Unemployment': 5.9},\n",
    "#     ...\n",
    "# }"
   ]
  },
  {
   "cell_type": "code",
   "execution_count": null,
   "metadata": {},
   "outputs": [],
   "source": [
    "# TODO: Normalize indicators to [0, 1] scale\n",
    "# Use min-max normalization:\n",
    "# normalized_value = (value - min) / (max - min)\n",
    "#\n",
    "# Then calculate attractiveness index for each country"
   ]
  },
  {
   "cell_type": "code",
   "execution_count": null,
   "metadata": {},
   "outputs": [],
   "source": [
    "# TODO: Visualize attractiveness scores\n",
    "# Bar chart: countries ranked by attractiveness\n",
    "# Check if it makes sense: USA, CAN, AUS high; PAK, BGD low"
   ]
  },
  {
   "cell_type": "markdown",
   "metadata": {},
   "source": [
    "### Data Enrichment Inference\n",
    "\n",
    "**TODO:** After running above cells, describe:\n",
    "- Which countries have highest attractiveness? Does this match intuition?\n",
    "- Range of scores (e.g., USA = 0.95, PAK = 0.15)\n",
    "- Any surprises? (e.g., oil-rich countries, small developed nations)"
   ]
  },
  {
   "cell_type": "markdown",
   "metadata": {},
   "source": [
    "## Section 3: Enhanced Migrant Agent Class\n",
    "\n",
    "**Modifications from Baseline (NB5):**\n",
    "\n",
    "**New Attributes:**\n",
    "- `economic_need` - Agent's threshold for acceptable living conditions (like Sugarscape metabolism)\n",
    "- Randomly assigned: some agents satisfied with moderate conditions, others need high attractiveness\n",
    "\n",
    "**Modified Methods:**\n",
    "\n",
    "**`check_if_migrate(world)`:**\n",
    "- OLD: Random threshold (`random.random() < wanderlust`)\n",
    "- NEW: Compare current country attractiveness to agent's economic need\n",
    "- Logic: If `current_attractiveness < economic_need`, agent considers migrating\n",
    "- Still stochastic (uses wanderlust as probability)\n",
    "\n",
    "**`choose_destination(world)`:**\n",
    "- OLD: Random choice from neighbors\n",
    "- NEW: Weighted choice based on multiple factors:\n",
    "  1. **Economic attractiveness** of destination\n",
    "  2. **Diaspora size** (how many compatriots already there?)\n",
    "  3. **Distance cost** (inverse of empirical flow = revealed preference)\n",
    "- Calculate score for each neighbor, use softmax for probabilistic choice\n",
    "\n",
    "**Key Design Decision:** We'll build THREE versions:\n",
    "- `EconomicMigrant`: Only economic factors (Section 3)\n",
    "- `NetworkMigrant`: Economic + diaspora (Section 4)\n",
    "- `FullMigrant`: Economic + diaspora + distance (Section 5)\n",
    "\n",
    "This lets us test each mechanism's contribution separately."
   ]
  },
  {
   "cell_type": "code",
   "execution_count": null,
   "metadata": {},
   "outputs": [],
   "source": [
    "# TODO: Define EconomicMigrant class\n",
    "# Inherits from Migrant (NB5), adds economic decision-making\n",
    "#\n",
    "# class EconomicMigrant(Migrant):  # Inherit from NB5 baseline\n",
    "#     def __init__(self, agent_id, birth_country, params):\n",
    "#         super().__init__(agent_id, birth_country, params)\n",
    "#         # NEW: Add economic_need attribute\n",
    "#     \n",
    "#     def check_if_migrate(self, world):\n",
    "#         # NEW: Compare current country attractiveness to economic_need\n",
    "#         # If current is too low, consider migrating (with wanderlust probability)\n",
    "#     \n",
    "#     def choose_destination(self, world):\n",
    "#         # NEW: Weighted choice by attractiveness\n",
    "#         # Get neighbors, look up attractiveness, choose probabilistically"
   ]
  },
  {
   "cell_type": "markdown",
   "metadata": {},
   "source": [
    "## Section 4: Enhanced World Class\n",
    "\n",
    "**Modifications from Baseline (NB5):**\n",
    "\n",
    "**New Attributes:**\n",
    "- `attractiveness` - Dictionary mapping country → attractiveness score (0-1)\n",
    "- Loaded from Section 2 data enrichment\n",
    "\n",
    "**New Methods:**\n",
    "- `get_attractiveness(country)` - Convenience method to retrieve score\n",
    "- `count_diaspora(origin, dest)` - Count how many agents from `origin` currently in `dest`\n",
    "  - Used for network effects (Section 5)\n",
    "- `get_distance_cost(origin, dest)` - Revealed preference from empirical data\n",
    "  - Inverse of empirical flow = higher empirical flow → lower perceived distance\n",
    "  - Used for distance costs (Section 5)\n",
    "\n",
    "**Unchanged:**\n",
    "- Graph structure, agent management, simulation loop (reuse from NB5)"
   ]
  },
  {
   "cell_type": "code",
   "execution_count": null,
   "metadata": {},
   "outputs": [],
   "source": [
    "# TODO: Define EnhancedWorld class\n",
    "# Inherits from MigrationWorld (NB5), adds economic/network/distance data\n",
    "#\n",
    "# class EnhancedWorld(MigrationWorld):\n",
    "#     def __init__(self, graph, attractiveness_dict, params):\n",
    "#         super().__init__(graph, params)\n",
    "#         self.attractiveness = attractiveness_dict\n",
    "#     \n",
    "#     def get_attractiveness(self, country):\n",
    "#         return self.attractiveness.get(country, 0.5)  # Default mid-level\n",
    "#     \n",
    "#     def count_diaspora(self, origin, dest):\n",
    "#         # Count agents born in 'origin' currently living in 'dest'\n",
    "#     \n",
    "#     def get_distance_cost(self, origin, dest):\n",
    "#         # Use empirical flow as proxy: high flow = low cost\n",
    "#         # Return 1 / (empirical_flow + 1)  [normalized]"
   ]
  },
  {
   "cell_type": "markdown",
   "metadata": {},
   "source": [
    "## Section 5: Economic-Only Model (Test 1)\n",
    "\n",
    "**Objective:** Test if economic attractiveness ALONE can explain migration patterns.\n",
    "\n",
    "**Hypothesis:** Economic model should perform better than random (r > 0.3) but not perfectly (r < 0.7) because it ignores network effects and distance.\n",
    "\n",
    "**Experiment:**\n",
    "1. Create EnhancedWorld with attractiveness data\n",
    "2. Initialize 10,000 EconomicMigrant agents\n",
    "3. Run 100 timesteps\n",
    "4. Compare to empirical flows\n",
    "5. Calculate correlation\n",
    "\n",
    "**What to Observe:**\n",
    "- Do high-attractiveness countries (USA, CAN) gain population?\n",
    "- Do low-attractiveness countries (PAK, BGD) lose population?\n",
    "- Does correlation improve from baseline r = -0.04?"
   ]
  },
  {
   "cell_type": "code",
   "execution_count": null,
   "metadata": {},
   "outputs": [],
   "source": [
    "# TODO: Set parameters for economic-only model\n",
    "# params = {\n",
    "#     'min_wanderlust': 0.1,\n",
    "#     'max_wanderlust': 0.5,\n",
    "#     'min_economic_need': 0.3,  # Some agents satisfied with moderate conditions\n",
    "#     'max_economic_need': 0.8,  # Others need high attractiveness\n",
    "#     'economic_weight': 1.0,     # Only economic factors (no network/distance yet)\n",
    "# }"
   ]
  },
  {
   "cell_type": "code",
   "execution_count": null,
   "metadata": {},
   "outputs": [],
   "source": [
    "# TODO: Create EnhancedWorld with attractiveness data\n",
    "# Initialize 10,000 EconomicMigrant agents\n",
    "# Print initial population distribution"
   ]
  },
  {
   "cell_type": "code",
   "execution_count": null,
   "metadata": {},
   "outputs": [],
   "source": [
    "# TODO: Run simulation (100 timesteps)\n",
    "# world.run_simulation(n_steps=100, report_interval=10)"
   ]
  },
  {
   "cell_type": "code",
   "execution_count": null,
   "metadata": {},
   "outputs": [],
   "source": [
    "# TODO: Visualize results\n",
    "# 1. Final population distribution (network graph)\n",
    "# 2. Population dynamics over time (line chart)\n",
    "# 3. Top 20 migration flows (bar chart)"
   ]
  },
  {
   "cell_type": "markdown",
   "metadata": {},
   "source": [
    "### Economic-Only Model Inference\n",
    "\n",
    "**TODO:** After running simulation, describe:\n",
    "- Did high-attractiveness countries gain population? By how much?\n",
    "- Do population dynamics show trends (USA rising, PAK falling) vs. random walk (NB5)?\n",
    "- Do top flows include MEX→USA, IND→USA, or still random pairs?\n",
    "- Visual comparison to NB5: More concentrated or still uniform?"
   ]
  },
  {
   "cell_type": "code",
   "execution_count": null,
   "metadata": {},
   "outputs": [],
   "source": [
    "# TODO: Validate against empirical data\n",
    "# (Reuse validation code from NB5)\n",
    "# Calculate correlation, compare top flows, print results"
   ]
  },
  {
   "cell_type": "markdown",
   "metadata": {},
   "source": [
    "### Economic-Only Validation Inference\n",
    "\n",
    "**TODO:** After validation, analyze:\n",
    "- Correlation coefficient: r = ?\n",
    "- Comparison to baseline: r_economic vs r_random (-0.04)\n",
    "- Did any country pairs match empirical top 10?\n",
    "- Interpretation: Does economics alone explain migration? Partially? Completely?\n",
    "- What's still missing? (Network effects? Distance barriers?)"
   ]
  },
  {
   "cell_type": "markdown",
   "metadata": {},
   "source": [
    "## Section 6: Network Effects Model (Test 2)\n",
    "\n",
    "**Objective:** Add diaspora network effects to economic model.\n",
    "\n",
    "**Network Effect Logic:**\n",
    "- Existing diaspora communities reduce migration costs (information, social support, job networks)\n",
    "- Example: Indian community in USA attracts more Indian migrants (chain migration)\n",
    "- Implementation: `diaspora_score = count_diaspora(origin, dest) / 1000` (normalized)\n",
    "\n",
    "**New Agent Class: NetworkMigrant**\n",
    "- Inherits from EconomicMigrant\n",
    "- Modified `choose_destination()`:\n",
    "  ```\n",
    "  score = economic_weight * attractiveness + network_weight * diaspora_score\n",
    "  ```\n",
    "\n",
    "**Hypothesis:** Network model should perform better than economic-only (r increases) because it captures chain migration effects observed in real data."
   ]
  },
  {
   "cell_type": "code",
   "execution_count": null,
   "metadata": {},
   "outputs": [],
   "source": [
    "# TODO: Define NetworkMigrant class\n",
    "# Inherits from EconomicMigrant, adds diaspora consideration in destination choice\n",
    "#\n",
    "# class NetworkMigrant(EconomicMigrant):\n",
    "#     def choose_destination(self, world):\n",
    "#         # Calculate scores combining:\n",
    "#         # 1. Economic attractiveness (from parent class)\n",
    "#         # 2. Diaspora size (from world.count_diaspora())\n",
    "#         # Weighted sum, then softmax choice"
   ]
  },
  {
   "cell_type": "code",
   "execution_count": null,
   "metadata": {},
   "outputs": [],
   "source": [
    "# TODO: Set parameters for network model\n",
    "# params = {\n",
    "#     ...,\n",
    "#     'economic_weight': 0.6,  # Test different combinations\n",
    "#     'network_weight': 0.4,\n",
    "# }"
   ]
  },
  {
   "cell_type": "code",
   "execution_count": null,
   "metadata": {},
   "outputs": [],
   "source": [
    "# TODO: Run network model simulation\n",
    "# Create world, add NetworkMigrant agents, run 100 timesteps\n",
    "# Visualize results"
   ]
  },
  {
   "cell_type": "code",
   "execution_count": null,
   "metadata": {},
   "outputs": [],
   "source": [
    "# TODO: Validate network model\n",
    "# Calculate correlation, compare to economic-only and baseline"
   ]
  },
  {
   "cell_type": "markdown",
   "metadata": {},
   "source": [
    "### Network Effects Inference\n",
    "\n",
    "**TODO:** Analyze impact of adding network effects:\n",
    "- Correlation: r_network vs r_economic vs r_baseline\n",
    "- Did network effects improve model? By how much?\n",
    "- Do we see chain migration patterns? (Specific origin-destination pairs strengthening?)\n",
    "- Comparison to empirical top flows: More matches now?"
   ]
  },
  {
   "cell_type": "markdown",
   "metadata": {},
   "source": [
    "## Section 7: Full Model with Distance Costs (Test 3)\n",
    "\n",
    "**Objective:** Add distance/cultural/linguistic barriers to complete model.\n",
    "\n",
    "**Distance Cost Logic:**\n",
    "- **Revealed preference:** Use empirical flows to infer perceived costs\n",
    "- High empirical flow (MEX→USA) = low perceived distance (despite 2000km)\n",
    "- Low empirical flow (CHN→BRA) = high perceived distance (geographic + cultural + linguistic)\n",
    "- Implementation: `distance_cost = 1 / (empirical_flow + 1)`\n",
    "\n",
    "**New Agent Class: FullMigrant**\n",
    "- Inherits from NetworkMigrant\n",
    "- Modified `choose_destination()`:\n",
    "  ```\n",
    "  score = economic_weight * attractiveness \n",
    "        + network_weight * diaspora_score \n",
    "        - distance_weight * distance_cost\n",
    "  ```\n",
    "\n",
    "**Hypothesis:** Full model should achieve best correlation (r > 0.6) by combining all three mechanisms."
   ]
  },
  {
   "cell_type": "code",
   "execution_count": null,
   "metadata": {},
   "outputs": [],
   "source": [
    "# TODO: Calculate distance costs from empirical flows\n",
    "# Load top_bilateral_flows.csv\n",
    "# For each country pair, compute: distance_cost = 1 / (flow + 1)\n",
    "# Normalize to [0, 1] scale"
   ]
  },
  {
   "cell_type": "code",
   "execution_count": null,
   "metadata": {},
   "outputs": [],
   "source": [
    "# TODO: Add get_distance_cost() method to EnhancedWorld\n",
    "# (Or create FinalWorld class that includes this)"
   ]
  },
  {
   "cell_type": "code",
   "execution_count": null,
   "metadata": {},
   "outputs": [],
   "source": [
    "# TODO: Define FullMigrant class\n",
    "# Inherits from NetworkMigrant, adds distance cost consideration\n",
    "#\n",
    "# class FullMigrant(NetworkMigrant):\n",
    "#     def choose_destination(self, world):\n",
    "#         # Calculate scores combining all three factors:\n",
    "#         # 1. Economic attractiveness\n",
    "#         # 2. Diaspora size  \n",
    "#         # 3. Distance cost (SUBTRACT this - it's a barrier)\n",
    "#         # Softmax choice"
   ]
  },
  {
   "cell_type": "code",
   "execution_count": null,
   "metadata": {},
   "outputs": [],
   "source": [
    "# TODO: Set parameters for full model\n",
    "# params = {\n",
    "#     ...,\n",
    "#     'economic_weight': 0.5,   # Initial guess - will calibrate\n",
    "#     'network_weight': 0.3,\n",
    "#     'distance_weight': 0.2,\n",
    "# }"
   ]
  },
  {
   "cell_type": "code",
   "execution_count": null,
   "metadata": {},
   "outputs": [],
   "source": [
    "# TODO: Run full model simulation\n",
    "# Create world, add FullMigrant agents, run 100 timesteps\n",
    "# Visualize results"
   ]
  },
  {
   "cell_type": "code",
   "execution_count": null,
   "metadata": {},
   "outputs": [],
   "source": [
    "# TODO: Validate full model\n",
    "# Calculate correlation, compare to all previous models"
   ]
  },
  {
   "cell_type": "markdown",
   "metadata": {},
   "source": [
    "### Full Model Inference\n",
    "\n",
    "**TODO:** Comprehensive analysis:\n",
    "- Correlation progression: r_baseline → r_economic → r_network → r_full\n",
    "- Which mechanism contributed most? (Compare incremental improvements)\n",
    "- Do top flows now match empirical? (MEX→USA, VEN→COL, IND→USA?)\n",
    "- Population dynamics: USA rising, PAK falling (as expected)?\n",
    "- Remaining unexplained variance: What's still missing? (Policy? Language? Historical ties?)"
   ]
  },
  {
   "cell_type": "markdown",
   "metadata": {},
   "source": [
    "## Section 8: Parameter Calibration (Grid Search)\n",
    "\n",
    "**Objective:** Find optimal weights for economic, network, and distance factors.\n",
    "\n",
    "**Method:**\n",
    "- Grid search over parameter space\n",
    "- Test combinations:\n",
    "  - `economic_weight`: [0.3, 0.4, 0.5, 0.6]\n",
    "  - `network_weight`: [0.2, 0.3, 0.4]\n",
    "  - `distance_weight`: [0.1, 0.2, 0.3]\n",
    "- 4 × 3 × 3 = 36 combinations\n",
    "- For each: run simulation, calculate correlation\n",
    "- Select parameters with highest correlation\n",
    "\n",
    "**Computational Note:** 36 simulations × 100 timesteps × 10K agents = ~1 hour runtime (estimate)\n",
    "- If too slow: reduce to smaller grid or fewer agents/timesteps\n",
    "- Alternative: Random search (test 20 random combinations)"
   ]
  },
  {
   "cell_type": "code",
   "execution_count": null,
   "metadata": {},
   "outputs": [],
   "source": [
    "# TODO: Define parameter grid\n",
    "# economic_weights = [0.3, 0.4, 0.5, 0.6]\n",
    "# network_weights = [0.2, 0.3, 0.4]\n",
    "# distance_weights = [0.1, 0.2, 0.3]"
   ]
  },
  {
   "cell_type": "code",
   "execution_count": null,
   "metadata": {},
   "outputs": [],
   "source": [
    "# TODO: Grid search loop\n",
    "# results = []\n",
    "# for e_w in economic_weights:\n",
    "#     for n_w in network_weights:\n",
    "#         for d_w in distance_weights:\n",
    "#             # Run simulation with these parameters\n",
    "#             # Calculate correlation\n",
    "#             # Store: {e_w, n_w, d_w, correlation}\n",
    "#             # Print progress"
   ]
  },
  {
   "cell_type": "code",
   "execution_count": null,
   "metadata": {},
   "outputs": [],
   "source": [
    "# TODO: Analyze calibration results\n",
    "# Find best parameters (highest correlation)\n",
    "# Visualize parameter space:\n",
    "#   - Heatmap: economic vs network weight (with distance fixed)\n",
    "#   - Table: Top 10 parameter combinations"
   ]
  },
  {
   "cell_type": "markdown",
   "metadata": {},
   "source": [
    "### Calibration Inference\n",
    "\n",
    "**TODO:** Interpret calibration results:\n",
    "- Optimal parameters: economic_weight = ?, network_weight = ?, distance_weight = ?\n",
    "- Best correlation achieved: r = ?\n",
    "- Which factor has highest weight? (Economics? Networks? Distance?)\n",
    "- Sensitivity: How much does correlation vary with parameters? (Robust or fragile?)\n",
    "- Interpretation: What does optimal weighting tell us about real migration drivers?"
   ]
  },
  {
   "cell_type": "markdown",
   "metadata": {},
   "source": [
    "## Section 9: Final Validation & Sensitivity Analysis\n",
    "\n",
    "**Objective:** Thoroughly validate calibrated model and test robustness.\n",
    "\n",
    "**Validation Metrics:**\n",
    "1. **Correlation** - Overall pattern match (r)\n",
    "2. **Top flows** - Do top 10 simulated flows match empirical top 10?\n",
    "3. **Concentration** - Do top 5 countries capture ~40%, top 20 capture ~80%? (Like empirical)\n",
    "4. **Hub identification** - Are USA, IND, PAK among top destinations/sources?\n",
    "5. **Net migration** - Do simulated net flows (in - out) match empirical?\n",
    "\n",
    "**Sensitivity Analysis:**\n",
    "- Vary each parameter ±20% from optimal\n",
    "- Measure impact on correlation\n",
    "- Tornado plot: Which parameter matters most?"
   ]
  },
  {
   "cell_type": "code",
   "execution_count": null,
   "metadata": {},
   "outputs": [],
   "source": [
    "# TODO: Run final simulation with calibrated parameters\n",
    "# (Run multiple times with different seeds to check stochasticity)\n",
    "# Calculate mean and std of correlation across runs"
   ]
  },
  {
   "cell_type": "code",
   "execution_count": null,
   "metadata": {},
   "outputs": [],
   "source": [
    "# TODO: Comprehensive validation\n",
    "# 1. Correlation (overall)\n",
    "# 2. Top 20 flow comparison (side-by-side table)\n",
    "# 3. Concentration metrics (top 5%, top 20%)\n",
    "# 4. Hub identification (rank countries by in/out flow)\n",
    "# 5. Net migration comparison (scatter: empirical vs simulated net flow)"
   ]
  },
  {
   "cell_type": "code",
   "execution_count": null,
   "metadata": {},
   "outputs": [],
   "source": [
    "# TODO: Sensitivity analysis\n",
    "# For each parameter:\n",
    "#   - Run with value * 0.8\n",
    "#   - Run with value * 1.2\n",
    "#   - Measure change in correlation\n",
    "# Create tornado plot showing parameter importance"
   ]
  },
  {
   "cell_type": "markdown",
   "metadata": {},
   "source": [
    "### Final Validation Inference\n",
    "\n",
    "**TODO:** Comprehensive assessment:\n",
    "- Overall model performance: r = ? (compare to baseline r = -0.04)\n",
    "- How many top 10 flows match empirical?\n",
    "- Does model reproduce concentration? (Top 20 = ?% vs empirical 80%)\n",
    "- Are major hubs correctly identified?\n",
    "- Sensitivity: Which mechanism is most critical? (Economic? Network? Distance?)\n",
    "- Model success: What % of variance explained?\n",
    "- Remaining error: What's not captured? (Policy barriers? Language? Historical ties?)"
   ]
  },
  {
   "cell_type": "markdown",
   "metadata": {},
   "source": [
    "## Section 10: Model Comparison & Summary\n",
    "\n",
    "**Objective:** Synthesize all findings and compare model variants.\n",
    "\n",
    "**Create Comparison Table:**\n",
    "```\n",
    "| Model              | Correlation | Top 10 Matches | Concentration | Notes |\n",
    "|--------------------|-------------|----------------|---------------|-------|\n",
    "| Baseline (Random)  | -0.04       | 0/10           | None          | Uniform distribution |\n",
    "| Economic Only      | ?           | ?/10           | ?             | Attractiveness matters |\n",
    "| Economic + Network | ?           | ?/10           | ?             | Diaspora effect visible |\n",
    "| Full (Calibrated)  | ?           | ?/10           | ?             | Best performance |\n",
    "```\n",
    "\n",
    "**Key Insights:**\n",
    "- Which mechanism contributes most?\n",
    "- Is there synergy between mechanisms? (Combined > sum of parts?)\n",
    "- What does this tell us about real migration?\n",
    "\n",
    "**Prepare for Report:**\n",
    "- Save key figures (high-res for report)\n",
    "- Document final parameters\n",
    "- List limitations and future work"
   ]
  },
  {
   "cell_type": "code",
   "execution_count": null,
   "metadata": {},
   "outputs": [],
   "source": [
    "# TODO: Create comprehensive comparison table\n",
    "# Include all validation metrics for each model variant"
   ]
  },
  {
   "cell_type": "code",
   "execution_count": null,
   "metadata": {},
   "outputs": [],
   "source": [
    "# TODO: Create summary visualizations for report\n",
    "# 1. Model progression chart (correlation improving across models)\n",
    "# 2. Best-fit scatter plot (empirical vs simulated flows)\n",
    "# 3. Network graph showing final population distribution\n",
    "# 4. Mechanism contribution breakdown (pie chart or bar chart)"
   ]
  },
  {
   "cell_type": "markdown",
   "metadata": {},
   "source": [
    "### Summary & Conclusions\n",
    "\n",
    "**TODO:** Final synthesis for report:\n",
    "\n",
    "**Model Performance:**\n",
    "- Final correlation: r = ?\n",
    "- Improvement from baseline: Δr = ?\n",
    "- Variance explained: r² = ?\n",
    "\n",
    "**Mechanism Insights:**\n",
    "- [Describe which mechanisms matter most and why]\n",
    "- [Economic pull: Role in explaining flows]\n",
    "- [Network effects: Evidence of chain migration]\n",
    "- [Distance costs: How geography/culture matter]\n",
    "\n",
    "**What We Learned About Migration:**\n",
    "- [Key insights about real-world migration from ABM]\n",
    "- [Comparison to graph analysis findings from NB1-4]\n",
    "- [Emergent patterns from simple rules]\n",
    "\n",
    "**Model Limitations:**\n",
    "- [What's not captured: policy, language, historical ties?]\n",
    "- [Simplifications made]\n",
    "- [Scope for improvement]\n",
    "\n",
    "**Next Steps (Notebook 7):**\n",
    "- Test scenarios (what-if questions)\n",
    "- Compare graph vs ABM approaches\n",
    "- Prepare final report content"
   ]
  }
 ],
 "metadata": {
  "kernelspec": {
   "display_name": "Python 3",
   "language": "python",
   "name": "python3"
  },
  "language_info": {
   "codemirror_mode": {
    "name": "ipython",
    "version": 3
   },
   "file_extension": ".py",
   "mimetype": "text/x-python",
   "name": "python",
   "nbconvert_exporter": "python",
   "pygments_lexer": "ipython3",
   "version": "3.8.0"
  }
 },
 "nbformat": 4,
 "nbformat_minor": 4
}
