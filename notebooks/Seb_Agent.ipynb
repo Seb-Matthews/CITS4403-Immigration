{
 "cells": [
  {
   "cell_type": "markdown",
   "metadata": {},
   "source": [
    "# Build Network Graph"
   ]
  },
  {
   "cell_type": "code",
   "execution_count": 193,
   "metadata": {},
   "outputs": [
    {
     "name": "stdout",
     "output_type": "stream",
     "text": [
      "Libraries loaded and graph rebuilt successfully!\n",
      "Graph: 10 countries, 88 migration flows\n"
     ]
    }
   ],
   "source": [
    "import pandas as pd\n",
    "import numpy as np\n",
    "import matplotlib.pyplot as plt\n",
    "import networkx as nx\n",
    "import seaborn as sns\n",
    "import warnings\n",
    "import random\n",
    "warnings.filterwarnings('ignore', category=UserWarning)\n",
    "\n",
    "np.random.seed(99) # Set random seed for reproducibility\n",
    "\n",
    "df = pd.read_csv('../data/bilat_mig.csv')# Load the migration data\n",
    "# Rebuild the directed graph\n",
    "G = nx.DiGraph()\n",
    "for index, row in df.iterrows():\n",
    "    if row['da_pb_closed'] > 0:\n",
    "        G.add_edge(row['orig'], row['dest'], weight=row['da_pb_closed'])\n",
    "print(\"Libraries loaded and graph rebuilt successfully!\")\n",
    "print(f\"Graph: {G.number_of_nodes()} countries, {G.number_of_edges()} migration flows\")"
   ]
  },
  {
   "cell_type": "markdown",
   "metadata": {},
   "source": [
    "## Test Traversing Graph"
   ]
  },
  {
   "cell_type": "code",
   "execution_count": 194,
   "metadata": {},
   "outputs": [
    {
     "name": "stdout",
     "output_type": "stream",
     "text": [
      "['IND', 'PHL', 'POL', 'GBR', 'DEU', 'MEX', 'CAN', 'USA', 'AUS', 'SYR']\n",
      "1000\n",
      "Parameter not found\n",
      "Random Node: SYR\n"
     ]
    }
   ],
   "source": [
    "print(G.nodes)\n",
    "\n",
    "# Set node parameters\n",
    "G.nodes[\"USA\"][\"GDP\"] = 1000\n",
    "\n",
    "# Test retrieving data\n",
    "print(G.nodes[\"USA\"][\"GDP\"])\n",
    "\n",
    "# Error if not set yet. Parameters are node-by-node\n",
    "try:\n",
    "    print(G.nodes[\"IND\"][\"GDP\"])\n",
    "except KeyError:\n",
    "    print(\"Parameter not found\")\n",
    "\n",
    "\n",
    "# Test retrieving random\n",
    "print(\"Random Node:\",random.choice(list(G.nodes)))"
   ]
  },
  {
   "cell_type": "markdown",
   "metadata": {},
   "source": [
    "# Modelling\n",
    "## Agent Setup\n",
    "Start with a simple agent that can traverse a networkX network.\\\n",
    "Uses template from wk 7 Lab:\n",
    "\n",
    "Display gives the option to turn off print statements later"
   ]
  },
  {
   "cell_type": "code",
   "execution_count": 195,
   "metadata": {},
   "outputs": [],
   "source": [
    "class Agent:\n",
    "    \"\"\"\n",
    "    Summary of main attributes:\n",
    "    id              - The \"name\" of this agent\n",
    "    birth_place     - The source of this agent\n",
    "    living_place    - The current living place\n",
    "    job             - Fill later\n",
    "    age             - Fill later\n",
    "    wanderlust      - threshold to move per step\n",
    "    \"\"\"\n",
    "    # A list of all locations lived in. If it doesn't move, a duplicate is added\n",
    "    locations = []\n",
    "\n",
    "    def __init__(self, id, birth_node):\n",
    "        \"\"\"Creates a new agent at the given location.\"\"\"\n",
    "        self.birth_place = birth_node\n",
    "        self.living_place = birth_node\n",
    "        self.job = \"Builder\"\n",
    "        self.age = 0\n",
    "        self.wanderlust = 0.3\n",
    "        self.id = id\n",
    "\n",
    "\n",
    "\n",
    "    def check_move(self, world, display=False):\n",
    "        \"\"\"Check if this agent wants to move. Update with more advanced cost function later\"\"\"\n",
    "        if(random.random() < self.wanderlust):\n",
    "            if(display): print(\"Checking\", self.id, \"... I live in \", self.living_place, \"and I hate it\")\n",
    "            return True\n",
    "        else:\n",
    "            if(display): print(\"Checking\", self.id, \"... I live in \", self.living_place, \"and I'm happy here\")\n",
    "            return False\n",
    "\n",
    "\n",
    "\n",
    "    def step(self, world, display=False):\n",
    "        self.age += 1\n",
    "\n",
    "        if(self.check_move(world, display=display)):\n",
    "            # Keep generating until we get a country that's not the same\n",
    "            new_country = self.living_place\n",
    "            while new_country == self.living_place:\n",
    "                new_country = world.get_rand_country()\n",
    "\n",
    "            if(display): print(\"    I'm moving to\", new_country)\n",
    "        else:\n",
    "            # Unchanged, but add to locations array\n",
    "            new_country = self.living_place\n",
    "        \n",
    "        # Add the new location to the array\n",
    "        self.living_place = new_country\n",
    "        self.locations.append(new_country)"
   ]
  },
  {
   "cell_type": "markdown",
   "metadata": {},
   "source": [
    "## World Setup\n",
    "Create a world environment to run and control enviro params"
   ]
  },
  {
   "cell_type": "code",
   "execution_count": 196,
   "metadata": {},
   "outputs": [],
   "source": [
    "class World:\n",
    "    \"\"\"\n",
    "    Summary of main attributes:\n",
    "    houses? wealth? overpopulation?\n",
    "    \"\"\"\n",
    "\n",
    "    agents = []\n",
    "\n",
    "    def __init__(self, world_graph):\n",
    "        self.world_graph = world_graph\n",
    "\n",
    "    def get_rand_country(self):\n",
    "        random_item = random.choice(list(self.world_graph.nodes))\n",
    "        return random_item\n",
    "\n",
    "    def add_agent(self):\n",
    "        new_id = len(self.agents) + 1\n",
    "        rand_birth_place = self.get_rand_country()\n",
    "        new_agent = Agent(new_id, rand_birth_place)\n",
    "\n",
    "        print(\"Adding new agent born in \", rand_birth_place)\n",
    "        self.agents.append(new_agent)\n",
    "\n",
    "    def get_agents(self):\n",
    "        return self.agents\n",
    "    \n",
    "    def step(self):\n",
    "        for agent in self.agents:\n",
    "            agent.step(self, display=True) # Give the whole object so it can decision make"
   ]
  },
  {
   "cell_type": "code",
   "execution_count": 197,
   "metadata": {},
   "outputs": [
    {
     "name": "stdout",
     "output_type": "stream",
     "text": [
      "Adding new agent born in  CAN\n",
      "Adding new agent born in  CAN\n",
      "Adding new agent born in  GBR\n",
      "----- Generation 0 -----\n",
      "Checking 1 ... I live in  CAN and I'm happy here\n",
      "Checking 2 ... I live in  CAN and I hate it\n",
      "    I'm moving to POL\n",
      "Checking 3 ... I live in  GBR and I'm happy here\n",
      "------------------------\n",
      "----- Generation 1 -----\n",
      "Checking 1 ... I live in  CAN and I hate it\n",
      "    I'm moving to AUS\n",
      "Checking 2 ... I live in  POL and I'm happy here\n",
      "Checking 3 ... I live in  GBR and I'm happy here\n",
      "------------------------\n",
      "----- Generation 2 -----\n",
      "Checking 1 ... I live in  AUS and I'm happy here\n",
      "Checking 2 ... I live in  POL and I'm happy here\n",
      "Checking 3 ... I live in  GBR and I'm happy here\n",
      "------------------------\n",
      "----- Generation 3 -----\n",
      "Checking 1 ... I live in  AUS and I'm happy here\n",
      "Checking 2 ... I live in  POL and I hate it\n",
      "    I'm moving to MEX\n",
      "Checking 3 ... I live in  GBR and I'm happy here\n",
      "------------------------\n",
      "----- Generation 4 -----\n",
      "Checking 1 ... I live in  AUS and I'm happy here\n",
      "Checking 2 ... I live in  MEX and I hate it\n",
      "    I'm moving to USA\n",
      "Checking 3 ... I live in  GBR and I'm happy here\n",
      "------------------------\n"
     ]
    }
   ],
   "source": [
    "# Configure new world\n",
    "random.seed(99) # Seed for this specific set of operations\n",
    "\n",
    "world = World(G)\n",
    "\n",
    "# Add 3 agents\n",
    "world.add_agent()\n",
    "world.add_agent()\n",
    "world.add_agent()\n",
    "\n",
    "for step in range(5):\n",
    "    print(\"----- Generation\", step, \"-----\")\n",
    "    world.step()\n",
    "\n",
    "    # # ask the agents again\n",
    "    # for agent in world.get_agents():\n",
    "    #     print(\"Hi, I'm\", agent.id,\"and I live in\", agent.living_place)\n",
    "    \n",
    "    print(\"------------------------\")"
   ]
  }
 ],
 "metadata": {
  "kernelspec": {
   "display_name": ".venv",
   "language": "python",
   "name": "python3"
  },
  "language_info": {
   "codemirror_mode": {
    "name": "ipython",
    "version": 3
   },
   "file_extension": ".py",
   "mimetype": "text/x-python",
   "name": "python",
   "nbconvert_exporter": "python",
   "pygments_lexer": "ipython3",
   "version": "3.12.10"
  }
 },
 "nbformat": 4,
 "nbformat_minor": 2
}
