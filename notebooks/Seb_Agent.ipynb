{
 "cells": [
  {
   "cell_type": "markdown",
   "metadata": {},
   "source": [
    "# Build Network Graph"
   ]
  },
  {
   "cell_type": "code",
   "execution_count": 20,
   "metadata": {},
   "outputs": [
    {
     "name": "stdout",
     "output_type": "stream",
     "text": [
      "Libraries loaded and graph rebuilt successfully!\n",
      "Graph: 10 countries, 88 migration flows\n"
     ]
    }
   ],
   "source": [
    "import pandas as pd\n",
    "import numpy as np\n",
    "import matplotlib.pyplot as plt\n",
    "import networkx as nx\n",
    "import seaborn as sns\n",
    "import warnings\n",
    "import random\n",
    "warnings.filterwarnings('ignore', category=UserWarning)\n",
    "np.random.seed(99) # Set random seed for reproducibility\n",
    "df = pd.read_csv('../data/bilat_mig.csv')# Load the migration data\n",
    "# Rebuild the directed graph\n",
    "G = nx.DiGraph()\n",
    "for index, row in df.iterrows():\n",
    "    if row['da_pb_closed'] > 0:\n",
    "        G.add_edge(row['orig'], row['dest'], weight=row['da_pb_closed'])\n",
    "print(\"Libraries loaded and graph rebuilt successfully!\")\n",
    "print(f\"Graph: {G.number_of_nodes()} countries, {G.number_of_edges()} migration flows\")"
   ]
  },
  {
   "cell_type": "markdown",
   "metadata": {},
   "source": [
    "## Test Traversing Graph"
   ]
  },
  {
   "cell_type": "code",
   "execution_count": 35,
   "metadata": {},
   "outputs": [
    {
     "name": "stdout",
     "output_type": "stream",
     "text": [
      "['IND', 'PHL', 'POL', 'GBR', 'DEU', 'MEX', 'CAN', 'USA', 'AUS', 'SYR']\n",
      "1000\n",
      "Parameter not found\n",
      "Random Node: DEU\n"
     ]
    }
   ],
   "source": [
    "print(G.nodes)\n",
    "\n",
    "# Set node parameters\n",
    "G.nodes[\"USA\"][\"GDP\"] = 1000\n",
    "\n",
    "# Test retrieving data\n",
    "print(G.nodes[\"USA\"][\"GDP\"])\n",
    "\n",
    "# Error if not set yet. Parameters are node-by-node\n",
    "try:\n",
    "    print(G.nodes[\"IND\"][\"GDP\"])\n",
    "except KeyError:\n",
    "    print(\"Parameter not found\")\n",
    "\n",
    "\n",
    "# Test retrieving random\n",
    "print(\"Random Node:\",random.choice(list(G.nodes)))"
   ]
  },
  {
   "cell_type": "markdown",
   "metadata": {},
   "source": [
    "# Modelling\n",
    "## Agent Setup\n",
    "Start with a simple agent that can traverse a networkX network.\\\n",
    "Uses template from wk 7 Lab:"
   ]
  },
  {
   "cell_type": "code",
   "execution_count": 38,
   "metadata": {},
   "outputs": [],
   "source": [
    "class Agent:\n",
    "    \"\"\"\n",
    "    Summary of main attributes:\n",
    "    id              - The \"name\" of this agent\n",
    "    birth_place     - The source of this agent\n",
    "    living_place    - The current living place\n",
    "    job             - Fill later\n",
    "    age             - Fill later\n",
    "    wanderlust      - threshold to move per step\n",
    "    \"\"\"\n",
    "\n",
    "    def __init__(self, id, birth_node):\n",
    "        \"\"\"Creates a new agent at the given location.\"\"\"\n",
    "        self.birth_place = birth_node\n",
    "        self.living_place = birth_node\n",
    "        self.job = \"Builder\"\n",
    "        self.age = 0\n",
    "        self.wanderlust = 0.5\n",
    "        self.id = id\n",
    "\n",
    "    def step(self):\n",
    "        self.age += 1\n",
    "\n",
    "    # def step(self, env):\n",
    "    #     \"\"\"Look around, move, and harvest.\n",
    "\n",
    "    #     env: Sugarscape object\n",
    "    #     \"\"\"\n",
    "    #     # returns the agent’s new location, which is the visible cell with the most sugar.\n",
    "    #     self.loc = env.look_and_move(self.loc, self.vision)\n",
    "    #     # takes the (new) location of the agent, and removes and returns the sugar at that location.\n",
    "    #     # update the sugar of this agent after adding up the harvested sugar and minus the metabolism\n",
    "    #     self.sugar += env.harvest(self.loc) - self.metabolism\n",
    "    #     self.age += 1"
   ]
  },
  {
   "cell_type": "markdown",
   "metadata": {},
   "source": [
    "## World Setup\n",
    "Create a world environment to run and control enviro params"
   ]
  },
  {
   "cell_type": "code",
   "execution_count": 39,
   "metadata": {},
   "outputs": [],
   "source": [
    "class World:\n",
    "    \"\"\"\n",
    "    Summary of main attributes:\n",
    "    houses? wealth? overpopulation?\n",
    "    \"\"\"\n",
    "\n",
    "    agents = []\n",
    "\n",
    "    def __init__(self, world_graph):\n",
    "        self.world_graph = world_graph\n",
    "\n",
    "    def get_rand_country(self):\n",
    "        random_item = random.choice(list(self.world_graph.nodes))\n",
    "        return random_item\n",
    "\n",
    "    def add_agent(self):\n",
    "        new_id = len(self.agents) + 1\n",
    "        rand_birth_place = self.get_rand_country()\n",
    "        new_agent = Agent(new_id, rand_birth_place)\n",
    "\n",
    "        print(\"Adding new agent born in \", rand_birth_place)\n",
    "        self.agents.append(new_agent)\n",
    "\n",
    "    def get_agents(self):\n",
    "        return self.agents\n",
    "    \n",
    "    def step():\n",
    "        for agent in self.agents:\n",
    "            agent.step()"
   ]
  },
  {
   "cell_type": "code",
   "execution_count": 40,
   "metadata": {},
   "outputs": [
    {
     "name": "stdout",
     "output_type": "stream",
     "text": [
      "Adding new agent born in  PHL\n",
      "Adding new agent born in  SYR\n",
      "Adding new agent born in  GBR\n",
      "Hi, I'm 1 and I live in PHL\n",
      "Hi, I'm 2 and I live in SYR\n",
      "Hi, I'm 3 and I live in GBR\n"
     ]
    }
   ],
   "source": [
    "# Configure new world\n",
    "world = World(G)\n",
    "\n",
    "# Add 3 agents\n",
    "world.add_agent()\n",
    "world.add_agent()\n",
    "world.add_agent()\n",
    "\n",
    "\n",
    "for agent in world.get_agents():\n",
    "    print(\"Hi, I'm\", agent.id,\"and I live in\", agent.birth_place)"
   ]
  }
 ],
 "metadata": {
  "kernelspec": {
   "display_name": ".venv",
   "language": "python",
   "name": "python3"
  },
  "language_info": {
   "codemirror_mode": {
    "name": "ipython",
    "version": 3
   },
   "file_extension": ".py",
   "mimetype": "text/x-python",
   "name": "python",
   "nbconvert_exporter": "python",
   "pygments_lexer": "ipython3",
   "version": "3.12.10"
  }
 },
 "nbformat": 4,
 "nbformat_minor": 2
}
